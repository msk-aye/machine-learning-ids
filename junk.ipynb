{
 "cells": [
  {
   "cell_type": "code",
   "execution_count": null,
   "id": "0d96c80c",
   "metadata": {},
   "outputs": [],
   "source": [
    "\n",
    "# Following dont have much impact, leaving them in for now\n",
    "# 'mbtcp.unit_id',\n",
    "# 'mbtcp.trans_id',\n",
    "# 'mbtcp.len',\n",
    "# 'icmp.unused',\n",
    "# 'http.tls_port',\n",
    "# 'mqtt.msg_decoded_as',\n",
    "# 'dns.qry.type',\n",
    "# 'dns.retransmit_request_in',\n",
    "# 'dns.qry.qu',\n",
    "# 'arp.hw.size'\n",
    "\n",
    "# Following have higher impact on performance\n",
    "# 'mqtt.protoname',\n",
    "# 'mqtt.conack.flags',\n",
    "# 'mqtt.topic',\n",
    "# 'dns.qry.name.len'"
   ]
  }
 ],
 "metadata": {
  "language_info": {
   "name": "python"
  }
 },
 "nbformat": 4,
 "nbformat_minor": 5
}
